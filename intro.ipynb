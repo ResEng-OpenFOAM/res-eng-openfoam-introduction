{
 "cells": [
  {
   "cell_type": "markdown",
   "metadata": {
    "pyFoam": {
     "classes": [
      "heading"
     ]
    }
   },
   "source": [
    "# [OpenFOAM Simulations in a nutshell](https://foam-school.github.io/docs/part1/openfoam-simulation-in-a-nutshell/) (Diffusive flow simulation)\n",
    "\n",
    "### 0. Install needed libraries"
   ]
  },
  {
   "cell_type": "code",
   "execution_count": 1,
   "metadata": {
    "scrolled": true
   },
   "outputs": [
    {
     "name": "stdout",
     "output_type": "stream",
     "text": [
      "\u001b[33mThe directory '/home/of/.cache/pip/http' or its parent directory is not owned by the current user and the cache has been disabled. Please check the permissions and owner of that directory. If executing pip with sudo, you may want sudo's -H flag.\u001b[0m\r\n",
      "\u001b[33mThe directory '/home/of/.cache/pip' or its parent directory is not owned by the current user and caching wheels has been disabled. check the permissions and owner of that directory. If executing pip with sudo, you may want sudo's -H flag.\u001b[0m\r\n"
     ]
    }
   ],
   "source": [
    "# These are shell commands\n",
    "! sudo apt-get install python3-matplotlib python3-pip python3-pandas python3-docutils -y > /dev/null\n",
    "! sudo pip3 install ply zeroconf psutil pyFoam > /dev/null"
   ]
  },
  {
   "cell_type": "markdown",
   "metadata": {
    "pyFoam": {
     "classes": [
      "comment"
     ]
    }
   },
   "source": [
    "### 1. Imports and initial configuration\n",
    "\n",
    "We make sure plots are \"inlined\", import an improved `DataFrame` class and prepare the case directory for processing"
   ]
  },
  {
   "cell_type": "code",
   "execution_count": 2,
   "metadata": {},
   "outputs": [
    {
     "data": {
      "application/javascript": [
       "\n",
       "    function handle_output(out){\n",
       "        console.log(out);\n",
       "        var res = null;\n",
       "         // if output is a print statement\n",
       "        if(out.msg_type == \"stream\"){\n",
       "            res = out.content.data;\n",
       "        }\n",
       "        // if output is a python object\n",
       "        else if(out.msg_type === \"pyout\"){\n",
       "            res = out.content.data[\"text/plain\"];\n",
       "        }\n",
       "        // if output is a python error\n",
       "        else if(out.msg_type == \"pyerr\"){\n",
       "            res = out.content.ename + \": \" + out.content.evalue;\n",
       "        }\n",
       "        // if output is something we haven't thought of\n",
       "        else{\n",
       "            res = \"[out type not implemented]\";\n",
       "        }\n",
       "        console.log(res);\n",
       "    }\n",
       "    var callbacks =  {'iopub' : {'output' : handle_output}};\n",
       "    \n",
       "function ensurePyFoamStorage() {\n",
       "  if (typeof IPython ==\"undefined\") {\n",
       "      alert(\"Trying to use PyFoam.IPythonHelpers.PermanentStorage outside of IPython\");\n",
       "      return;\n",
       "  } else if(IPython.notebook==undefined) {\n",
       "      alert(\"Trying to use PyFoam.IPythonHelpers.PermanentStorage outside of an IPython-notebook\");\n",
       "      return;\n",
       "  } else if(IPython.notebook.metadata.pyFoam==undefined) {\n",
       "      IPython.notebook.metadata.pyFoam=Object();\n",
       "      console.log(\"IPython.notebook.metadata.pyFoam created\");\n",
       "  } else {\n",
       "      console.log(\"IPython.notebook.metadata.pyFoam found\");\n",
       "  }\n",
       "  if(IPython.notebook.metadata.pyFoam.storedData==undefined) {\n",
       "      IPython.notebook.metadata.pyFoam.storedData=Object();\n",
       "      console.log(\"IPython.notebook.metadata.pyFoam.storedData created\");\n",
       "  } else {\n",
       "      console.log(\"IPython.notebook.metadata.pyFoam.storedData found\");\n",
       "  }\n",
       "\n",
       "  var store=IPython.notebook.metadata.pyFoam.storedData;\n",
       "  var expr=\"from PyFoam.IPythonHelpers.PermanentStorage import PermanentStorage as perm\\nperm._data={}\";\n",
       "  status=\"Starting transfer\";\n",
       "  var kernel=IPython.notebook.kernel;\n",
       "  kernel.execute(expr, callbacks, {silent:false});\n",
       "  for(var k in store) {\n",
       "      var totalLen=store[k].length;\n",
       "      console.log(\"Found stored \"+k+\" Length: \"+totalLen);\n",
       "//      expr+=\"'\"+k+\"' : '\"+store[k]+\"' ,\";\n",
       "      var chunk=400; // seems to be the best compromise\n",
       "      var nChunks=(totalLen/chunk|0)+1;\n",
       "      for(var i=0;i<nChunks;i++) {\n",
       "          status=\"chunk \"+(i+1)+\" of \"+nChunks+\" of \"+k;\n",
       "          var value = store[k].substring(i*chunk,(i+1)*chunk);\n",
       "          var command =\"perm._data['\"+k+\"']\";\n",
       "          if(i>0) {\n",
       "            command+=\"+=\";\n",
       "          } else {\n",
       "            command+=\"=\";\n",
       "          }\n",
       "          command += \"'\"+value+\"'\";\n",
       "          kernel.execute(command);\n",
       "      }\n",
       "  }\n",
       "  status=\"Starting transfer (this can take some time)\";\n",
       "  console.log(\"Execution of python done\");\n",
       "}\n",
       "ensurePyFoamStorage();\n",
       "                       "
      ],
      "text/plain": [
       "<IPython.core.display.Javascript object>"
      ]
     },
     "metadata": {},
     "output_type": "display_data"
    },
    {
     "data": {
      "application/javascript": [
       "status=\"Storage status: Autowrite: False Autoread: True\""
      ],
      "text/plain": [
       "<IPython.core.display.Javascript object>"
      ]
     },
     "metadata": {},
     "output_type": "display_data"
    }
   ],
   "source": [
    "# If you don't know Python, don't worry about these lines. Just run-n-skip -em\n",
    "\n",
    "import subprocess\n",
    "\n",
    "%matplotlib inline\n",
    "from matplotlib import pyplot as plt\n",
    "\n",
    "from PyFoam.Wrappers.Pandas import PyFoamDataFrame as DataFrame\n",
    "from PyFoam.IPythonHelpers import storage\n",
    "from PyFoam.IPythonHelpers.Case import Case\n",
    "\n",
    "store=storage()"
   ]
  },
  {
   "cell_type": "markdown",
   "metadata": {},
   "source": [
    "Then, we import the `Case` class and instantiate our case object \n",
    "(The abolute path is given _relative_ to the \"docker container\")"
   ]
  },
  {
   "cell_type": "code",
   "execution_count": 3,
   "metadata": {
    "scrolled": true
   },
   "outputs": [
    {
     "name": "stdout",
     "output_type": "stream",
     "text": [
      "Case: /home/of/OpenFOAM/of-dev/run/intro\n"
     ]
    }
   ],
   "source": [
    "casePath = subprocess.run(['pwd'], stdout=subprocess.PIPE).stdout[:-1].decode(\"utf-8\")\n",
    "print(\"Case:\", casePath)\n",
    "# Pass the absolute path to the case to Case class\n",
    "case=Case(casePath)"
   ]
  },
  {
   "cell_type": "markdown",
   "metadata": {},
   "source": [
    "### 2. Investigating the case\n",
    "\n",
    "Retrieve some mesh statistics (Use `case.<TAB>` to learn more) as HTML objects"
   ]
  },
  {
   "cell_type": "code",
   "execution_count": 4,
   "metadata": {
    "pyFoam": {
     "classes": [
      "report"
     ]
    }
   },
   "outputs": [],
   "source": [
    "# First, make sure the mesh is there\n",
    "! blockMesh > /dev/null"
   ]
  },
  {
   "cell_type": "code",
   "execution_count": 5,
   "metadata": {},
   "outputs": [
    {
     "data": {
      "text/html": [
       "<div class=\"document\">\n",
       "<div class=\"section\" id=\"size-of-the-case\">\n",
       "<h3>Size of the case</h3>\n",
       "<table border=\"1\" class=\"docutils\">\n",
       "<colgroup>\n",
       "<col width=\"75%\" />\n",
       "<col width=\"25%\" />\n",
       "</colgroup>\n",
       "<tbody valign=\"top\">\n",
       "<tr><td>Faces</td>\n",
       "<td>46</td>\n",
       "</tr>\n",
       "<tr><td>Points</td>\n",
       "<td>40</td>\n",
       "</tr>\n",
       "<tr><td>Cells</td>\n",
       "<td>9</td>\n",
       "</tr>\n",
       "</tbody>\n",
       "</table>\n",
       "</div>\n",
       "</div>\n"
      ],
      "text/plain": [
       "<IPython.core.display.HTML object>"
      ]
     },
     "execution_count": 5,
     "metadata": {},
     "output_type": "execute_result"
    }
   ],
   "source": [
    "# Then inspect mesh size (Use case.<Tab> to see what else is available!!)\n",
    "case.size()"
   ]
  },
  {
   "cell_type": "code",
   "execution_count": 6,
   "metadata": {
    "pyFoam": {
     "classes": [
      "report"
     ]
    },
    "scrolled": true
   },
   "outputs": [
    {
     "data": {
      "text/html": [
       "<div class=\"document\">\n",
       "<div class=\"section\" id=\"table-of-boundary-conditions-for-t-0\">\n",
       "<h3>Table of boundary conditions for t = 0</h3>\n",
       "<table border=\"1\" class=\"docutils\">\n",
       "<colgroup>\n",
       "<col width=\"25%\" />\n",
       "<col width=\"30%\" />\n",
       "<col width=\"15%\" />\n",
       "<col width=\"30%\" />\n",
       "</colgroup>\n",
       "<thead valign=\"bottom\">\n",
       "<tr><th class=\"head\"><!--  -->\n",
       "</th>\n",
       "<th class=\"head\">inlet</th>\n",
       "<th class=\"head\">noFlow</th>\n",
       "<th class=\"head\">outlet</th>\n",
       "</tr>\n",
       "<tr><th class=\"head\">Patch Type</th>\n",
       "<th class=\"head\">patch</th>\n",
       "<th class=\"head\">empty</th>\n",
       "<th class=\"head\">patch</th>\n",
       "</tr>\n",
       "<tr><th class=\"head\">Length</th>\n",
       "<th class=\"head\">1</th>\n",
       "<th class=\"head\">36</th>\n",
       "<th class=\"head\">1</th>\n",
       "</tr>\n",
       "</thead>\n",
       "<tbody valign=\"top\">\n",
       "<tr><td>T</td>\n",
       "<td>fixedValue</td>\n",
       "<td>empty</td>\n",
       "<td>fixedValue</td>\n",
       "</tr>\n",
       "<tr><td>U</td>\n",
       "<td>zeroGradient</td>\n",
       "<td>empty</td>\n",
       "<td>zeroGradient</td>\n",
       "</tr>\n",
       "</tbody>\n",
       "</table>\n",
       "</div>\n",
       "</div>\n"
      ],
      "text/plain": [
       "<IPython.core.display.HTML object>"
      ]
     },
     "execution_count": 6,
     "metadata": {},
     "output_type": "execute_result"
    }
   ],
   "source": [
    "# Length here denotes how many faces are on the boundary patch\n",
    "case.boundaryConditions()"
   ]
  },
  {
   "cell_type": "markdown",
   "metadata": {},
   "source": [
    "You can even verify fields' dimensions here "
   ]
  },
  {
   "cell_type": "code",
   "execution_count": 7,
   "metadata": {
    "pyFoam": {
     "classes": [
      "report"
     ]
    },
    "scrolled": true
   },
   "outputs": [
    {
     "data": {
      "text/html": [
       "<div class=\"document\">\n",
       "<div class=\"section\" id=\"dimensions-of-fields-for-t-0\">\n",
       "<h3>Dimensions of fields for t = 0</h3>\n",
       "<table border=\"1\" class=\"docutils\">\n",
       "<colgroup>\n",
       "<col width=\"25%\" />\n",
       "<col width=\"13%\" />\n",
       "<col width=\"6%\" />\n",
       "<col width=\"13%\" />\n",
       "<col width=\"6%\" />\n",
       "<col width=\"19%\" />\n",
       "<col width=\"6%\" />\n",
       "<col width=\"13%\" />\n",
       "</colgroup>\n",
       "<thead valign=\"bottom\">\n",
       "<tr><th class=\"head\">Name</th>\n",
       "<th class=\"head\">kg</th>\n",
       "<th class=\"head\">m</th>\n",
       "<th class=\"head\">s</th>\n",
       "<th class=\"head\">K</th>\n",
       "<th class=\"head\">mol</th>\n",
       "<th class=\"head\">A</th>\n",
       "<th class=\"head\">cd</th>\n",
       "</tr>\n",
       "</thead>\n",
       "<tbody valign=\"top\">\n",
       "<tr><td>T</td>\n",
       "<td>0</td>\n",
       "<td>0</td>\n",
       "<td>0</td>\n",
       "<td>1</td>\n",
       "<td>0</td>\n",
       "<td>0</td>\n",
       "<td>0</td>\n",
       "</tr>\n",
       "<tr><td>U</td>\n",
       "<td>0</td>\n",
       "<td>1</td>\n",
       "<td>-1</td>\n",
       "<td>0</td>\n",
       "<td>0</td>\n",
       "<td>0</td>\n",
       "<td>0</td>\n",
       "</tr>\n",
       "</tbody>\n",
       "</table>\n",
       "</div>\n",
       "</div>\n"
      ],
      "text/plain": [
       "<IPython.core.display.HTML object>"
      ]
     },
     "execution_count": 7,
     "metadata": {},
     "output_type": "execute_result"
    }
   ],
   "source": [
    "case.dimensions()"
   ]
  },
  {
   "cell_type": "markdown",
   "metadata": {},
   "source": [
    "and also the variables values at cell centers for time 0 (initial time)"
   ]
  },
  {
   "cell_type": "code",
   "execution_count": 8,
   "metadata": {
    "pyFoam": {
     "classes": [
      "report"
     ]
    },
    "scrolled": true
   },
   "outputs": [
    {
     "data": {
      "text/html": [
       "<div class=\"document\">\n",
       "<div class=\"section\" id=\"internal-value-of-fields-for-t-0\">\n",
       "<h3>Internal value of fields for t = 0</h3>\n",
       "<table border=\"1\" class=\"docutils\">\n",
       "<colgroup>\n",
       "<col width=\"18%\" />\n",
       "<col width=\"82%\" />\n",
       "</colgroup>\n",
       "<thead valign=\"bottom\">\n",
       "<tr><th class=\"head\">Name</th>\n",
       "<th class=\"head\">Value</th>\n",
       "</tr>\n",
       "</thead>\n",
       "<tbody valign=\"top\">\n",
       "<tr><td>T</td>\n",
       "<td>uniform 0</td>\n",
       "</tr>\n",
       "<tr><td>U</td>\n",
       "<td>uniform (0.03 0 0)</td>\n",
       "</tr>\n",
       "</tbody>\n",
       "</table>\n",
       "</div>\n",
       "</div>\n"
      ],
      "text/plain": [
       "<IPython.core.display.HTML object>"
      ]
     },
     "execution_count": 8,
     "metadata": {},
     "output_type": "execute_result"
    }
   ],
   "source": [
    "case.internalField()"
   ]
  },
  {
   "cell_type": "markdown",
   "metadata": {},
   "source": [
    "Finally, the numerical solver's settings"
   ]
  },
  {
   "cell_type": "code",
   "execution_count": 9,
   "metadata": {},
   "outputs": [
    {
     "data": {
      "text/html": [
       "<div class=\"document\">\n",
       "<div class=\"section\" id=\"linear-solvers\">\n",
       "<h3>Linear Solvers</h3>\n",
       "<table border=\"1\" class=\"docutils\">\n",
       "<colgroup>\n",
       "<col width=\"11%\" />\n",
       "<col width=\"16%\" />\n",
       "<col width=\"38%\" />\n",
       "<col width=\"35%\" />\n",
       "</colgroup>\n",
       "<thead valign=\"bottom\">\n",
       "<tr><th class=\"head\">Name</th>\n",
       "<th class=\"head\">Solver</th>\n",
       "<th class=\"head\">Abs. Tolerance</th>\n",
       "<th class=\"head\">Relative Tol.</th>\n",
       "</tr>\n",
       "</thead>\n",
       "<tbody valign=\"top\">\n",
       "<tr><td>T</td>\n",
       "<td>PBiCG</td>\n",
       "<td>1e-07</td>\n",
       "<td>1e-05</td>\n",
       "</tr>\n",
       "</tbody>\n",
       "</table>\n",
       "</div>\n",
       "</div>\n"
      ],
      "text/plain": [
       "<IPython.core.display.HTML object>"
      ]
     },
     "execution_count": 9,
     "metadata": {},
     "output_type": "execute_result"
    }
   ],
   "source": [
    "case.linearSolvers()\n",
    "# Or you can type \"case.\" and press <TAB> to get a list of available methods"
   ]
  },
  {
   "cell_type": "markdown",
   "metadata": {},
   "source": [
    "### Preparing and running the case"
   ]
  },
  {
   "cell_type": "code",
   "execution_count": 10,
   "metadata": {},
   "outputs": [
    {
     "name": "stdout",
     "output_type": "stream",
     "text": [
      "Cleaning /home/of/OpenFOAM/of-dev/run/intro case\n",
      "/*---------------------------------------------------------------------------*\\\n",
      "  =========                 |\n",
      "  \\\\      /  F ield         | OpenFOAM: The Open Source CFD Toolbox\n",
      "   \\\\    /   O peration     | Website:  https://openfoam.org\n",
      "    \\\\  /    A nd           | Version:  dev\n",
      "     \\\\/     M anipulation  |\n",
      "\\*---------------------------------------------------------------------------*/\n",
      "Build  : dev-986d206e1840\n",
      "Exec   : scalarTransportFoam\n",
      "Date   : Nov 14 2020\n",
      "Time   : 20:18:46\n",
      "Host   : \"1655614f3dc5\"\n",
      "PID    : 3203\n",
      "I/O    : uncollated\n",
      "Case   : /home/of/OpenFOAM/of-dev/run/intro\n",
      "nProcs : 1\n",
      "sigFpe : Enabling floating point exception trapping (FOAM_SIGFPE).\n",
      "fileModificationChecking : Monitoring run-time modified files using timeStampMaster (fileModificationSkew 10)\n",
      "allowSystemOperations : Allowing user-supplied system call operations\n",
      "\n",
      "// * * * * * * * * * * * * * * * * * * * * * * * * * * * * * * * * * * * * * //\n",
      "Create time\n",
      "\n",
      "Create mesh for time = 0\n",
      "\n",
      "\n",
      "SIMPLE: No convergence criteria found\n",
      "\n",
      "Reading field T\n",
      "\n",
      "Reading field U\n",
      "\n",
      "Reading transportProperties\n",
      "\n",
      "Reading diffusivity DT\n",
      "\n",
      "Reading/calculating face flux field phi\n",
      "\n",
      "No finite volume options present\n",
      "\n",
      "Calculating scalar transport\n",
      "\n",
      "Courant Number mean: 0.3 max: 0.3\n",
      "Time = 1\n",
      "\n",
      "DILUPBiCG:  Solving for T, Initial residual = 1, Final residual = 4.191071e-16, No Iterations 1\n",
      "Time = 2\n",
      "\n",
      "DILUPBiCG:  Solving for T, Initial residual = 3.1673702e-16, Final residual = 3.1673702e-16, No Iterations 0\n",
      "Time = 3\n",
      "\n",
      "DILUPBiCG:  Solving for T, Initial residual = 3.1673702e-16, Final residual = 3.1673702e-16, No Iterations 0\n",
      "End\n",
      "\n"
     ]
    }
   ],
   "source": [
    "### For Python First-Timers\n",
    "\n",
    "# Clean things, build the mesh and run the solver, keeping a log of the run\n",
    "# There are better ways to do this, but because it's your first time, do it from the shell:\n",
    "! foamCleanTutorials && blockMesh > /dev/null\n",
    "! scalarTransportFoam | tee log.scalarTransportFoam"
   ]
  },
  {
   "cell_type": "code",
   "execution_count": 11,
   "metadata": {
    "scrolled": false
   },
   "outputs": [
    {
     "name": "stdout",
     "output_type": "stream",
     "text": [
      "Clearing out old timesteps ....\n",
      " t =          3Killing PID 3213\n"
     ]
    },
    {
     "name": "stderr",
     "output_type": "stream",
     "text": [
      "\u001b[4m PyFoam WARNING on line 42 of file /usr/local/lib/python3.6/dist-packages/PyFoam/Infrastructure/ServerBase.py : No certficate file /home/of/.pyFoam/foamServerCertificate.cert exists. Therefor no SSL-connection for the FoamServer possible\n",
      " To generate a private key:\n",
      "    openssl genrsa -out /home/of/.pyFoam/foamServerCertificate.key 2048 \n",
      "Then generate the cerificate that is valid for 3 years with \n",
      "    openssl req -new -x509 -key /home/of/.pyFoam/foamServerCertificate.key -out /home/of/.pyFoam/foamServerCertificate.cert -days 1095 \u001b[m\n"
     ]
    }
   ],
   "source": [
    "### For Python programmers, there is a \"PyFoam\" Package to automate OpenFOAM stuff\n",
    "\n",
    "# Use PyFoam as a library to launch simulations\n",
    "from PyFoam.Applications.Runner import Runner\n",
    "\n",
    "\n",
    "# Clear the case, show only the progress,\n",
    "# Choose scalarTransportFoam, and provide case absolute path as its option\n",
    "rn = Runner(args=[\"--clear\",\"--progress\",\"scalarTransportFoam\",\"-case\",case.path])"
   ]
  },
  {
   "cell_type": "code",
   "execution_count": 12,
   "metadata": {},
   "outputs": [
    {
     "name": "stdout",
     "output_type": "stream",
     "text": [
      "Clearing out old timesteps ....\n",
      "\u001b[4m PyFoam WARNING on line 42 of file /usr/local/lib/python3.6/dist-packages/PyFoam/Infrastructure/ServerBase.py : No certficate file /home/of/.pyFoam/foamServerCertificate.cert exists. Therefor no SSL-connection for the FoamServer possible\n",
      " To generate a private key:\n",
      "    openssl genrsa -out /home/of/.pyFoam/foamServerCertificate.key 2048 \n",
      "Then generate the cerificate that is valid for 3 years with \n",
      "    openssl req -new -x509 -key /home/of/.pyFoam/foamServerCertificate.key -out /home/of/.pyFoam/foamServerCertificate.cert -days 1095 \u001b[m\n",
      " t =          3Killing PID 3268\n"
     ]
    }
   ],
   "source": [
    "\n",
    "# Notice that\n",
    "# PyFoam application options start with --\n",
    "# OpenFOAM solver options start with a single -\n",
    "\n",
    "# On commandline, you can run:\n",
    "! pyFoamRunner.py --clear --progress scalarTransportFoam -case .\n",
    "\n",
    "# You can increase the number of timesteps; you'll only time progress here"
   ]
  },
  {
   "cell_type": "markdown",
   "metadata": {},
   "source": [
    "### Investigating the run"
   ]
  },
  {
   "cell_type": "code",
   "execution_count": 13,
   "metadata": {},
   "outputs": [],
   "source": [
    "# Get simulation Data as a Python dictionary\n",
    "data = rn.getData()"
   ]
  },
  {
   "cell_type": "code",
   "execution_count": 14,
   "metadata": {},
   "outputs": [
    {
     "data": {
      "text/plain": [
       "dict_keys(['lines', 'uniqueid', 'logfile', 'casefullname', 'casename', 'solver', 'solverFull', 'commandLine', 'hostname', 'remark', 'starttime', 'time', 'stepNr', 'lasttimesteptime', 'analyzed', 'keyboardInterrupt', 'interrupted', 'OK', 'endSeen', 'cpuTime', 'cpuUserTime', 'cpuSystemTime', 'wallTime', 'usedMemory', 'endtime', 'fatalError', 'fatalFPE', 'fatalStackdump'])"
      ]
     },
     "execution_count": 14,
     "metadata": {},
     "output_type": "execute_result"
    }
   ],
   "source": [
    "# Discover what info is stored\n",
    "data.keys()"
   ]
  },
  {
   "cell_type": "code",
   "execution_count": 15,
   "metadata": {
    "scrolled": true
   },
   "outputs": [
    {
     "data": {
      "text/plain": [
       "True"
      ]
     },
     "execution_count": 15,
     "metadata": {},
     "output_type": "execute_result"
    }
   ],
   "source": [
    "# Has the run finished OK?\n",
    "rn.OK"
   ]
  },
  {
   "cell_type": "code",
   "execution_count": 16,
   "metadata": {},
   "outputs": [
    {
     "data": {
      "text/plain": [
       "False"
      ]
     },
     "execution_count": 16,
     "metadata": {},
     "output_type": "execute_result"
    }
   ],
   "source": [
    "# If failed, is it an OpenFOAM Fatal Error?\n",
    "rn.fatalError"
   ]
  },
  {
   "cell_type": "code",
   "execution_count": 17,
   "metadata": {},
   "outputs": [
    {
     "data": {
      "text/plain": [
       "False"
      ]
     },
     "execution_count": 17,
     "metadata": {},
     "output_type": "execute_result"
    }
   ],
   "source": [
    "# Or was the run interrupted\n",
    "rn.interrupted"
   ]
  },
  {
   "cell_type": "code",
   "execution_count": 18,
   "metadata": {},
   "outputs": [
    {
     "data": {
      "text/plain": [
       "'No remark given'"
      ]
     },
     "execution_count": 18,
     "metadata": {},
     "output_type": "execute_result"
    }
   ],
   "source": [
    "# Was there a run \"remark\" (For over-the-network simulations)\n",
    "rn.remark"
   ]
  },
  {
   "cell_type": "code",
   "execution_count": 19,
   "metadata": {
    "scrolled": false
   },
   "outputs": [
    {
     "data": {
      "text/plain": [
       "(0.0, 0.0, 0.0)"
      ]
     },
     "execution_count": 19,
     "metadata": {},
     "output_type": "execute_result"
    }
   ],
   "source": [
    "# CPU TIME (don't expect much here, it's 9 cells!)\n",
    "rn.cpuSystemTime, rn.cpuUserTime, rn.cpuTime"
   ]
  },
  {
   "cell_type": "code",
   "execution_count": 20,
   "metadata": {},
   "outputs": [
    {
     "data": {
      "text/plain": [
       "'/home/of/OpenFOAM/of-dev/run/intro/3'"
      ]
     },
     "execution_count": 20,
     "metadata": {},
     "output_type": "execute_result"
    }
   ],
   "source": [
    "# Newest time directory\n",
    "case.sol.latestDir()"
   ]
  },
  {
   "cell_type": "code",
   "execution_count": 21,
   "metadata": {},
   "outputs": [
    {
     "data": {
      "text/plain": [
       "dict_values([54, '9a4bf190-26b6-11eb-add7-0242ac110002', '/home/of/OpenFOAM/of-dev/run/intro/PyFoamRunner.scalarTransportFoam.logfile', '/home/of/OpenFOAM/of-dev/run/intro', 'intro', 'scalarTransportFoam', 'scalarTransportFoam', 'scalarTransportFoam -case /home/of/OpenFOAM/of-dev/run/intro', '1655614f3dc5', 'No remark given', 'Sat Nov 14 20:18:47 2020', 3.0, 3, 'Sat Nov 14 20:18:48 2020', {'Linear': {'T': 3.1673702e-16, 'T_final': 3.1673702e-16, 'T_iterations': 0.0}, 'Iterations': {'T': 0.0}}, False, False, True, True, 0.0, 0.0, 0.0, 0.12264227867126465, 0.0, 'Sat Nov 14 20:18:48 2020', False, False, False])"
      ]
     },
     "execution_count": 21,
     "metadata": {},
     "output_type": "execute_result"
    }
   ],
   "source": [
    "# Take a look at everything\n",
    "data.values()"
   ]
  },
  {
   "cell_type": "markdown",
   "metadata": {},
   "source": [
    "### The list of T values\n",
    "\n",
    "What we *really* want to extract in this case is the `nonuniform list of T` at time = 3!"
   ]
  },
  {
   "cell_type": "code",
   "execution_count": 22,
   "metadata": {},
   "outputs": [
    {
     "data": {
      "text/html": [
       "<div class=\"document\">\n",
       "<p>Using time t=3</p>\n",
       "<div class=\"section\" id=\"internal-value-of-fields-for-t-3\">\n",
       "<h3>Internal value of fields for t = 3</h3>\n",
       "<table border=\"1\" class=\"docutils\">\n",
       "<colgroup>\n",
       "<col width=\"13%\" />\n",
       "<col width=\"88%\" />\n",
       "</colgroup>\n",
       "<thead valign=\"bottom\">\n",
       "<tr><th class=\"head\">Name</th>\n",
       "<th class=\"head\">Value</th>\n",
       "</tr>\n",
       "</thead>\n",
       "<tbody valign=\"top\">\n",
       "<tr><td>T</td>\n",
       "<td>nonuniform List&lt;scalar&gt; 9...</td>\n",
       "</tr>\n",
       "<tr><td>U</td>\n",
       "<td>uniform (0.03 0 0)</td>\n",
       "</tr>\n",
       "<tr><td>phi</td>\n",
       "<td>uniform 0.0003</td>\n",
       "</tr>\n",
       "</tbody>\n",
       "</table>\n",
       "</div>\n",
       "</div>\n"
      ],
      "text/plain": [
       "<IPython.core.display.HTML object>"
      ]
     },
     "execution_count": 22,
     "metadata": {},
     "output_type": "execute_result"
    }
   ],
   "source": [
    "case.internalField(time=3.0)\n",
    "# But this is HTML!! can't plot, can't do much with the data"
   ]
  },
  {
   "cell_type": "code",
   "execution_count": 23,
   "metadata": {},
   "outputs": [
    {
     "name": "stdout",
     "output_type": "stream",
     "text": [
      "3/T content: ['dimensions', 'internalField', 'boundaryField']\n",
      "\n",
      "T at cell center: [0.98942794, 0.96082118, 0.92211791, 0.86975468, 0.79891029, 0.70306201, 0.57338493, 0.39793946, 0.16057206]\n"
     ]
    }
   ],
   "source": [
    "# An alternative way, for this case, is to directly parse 2/T file\n",
    "\n",
    "# Import parsedFile class as sf\n",
    "from PyFoam.RunDictionary.ParsedParameterFile import ParsedParameterFile as sf\n",
    "\n",
    "# The 3/T file representation\n",
    "T = sf(case.sol.latestDir()+'/T')\n",
    "\n",
    "# What keywords the file has?\n",
    "print(\"3/T content: %s\\n\" % T.content.keys())\n",
    "\n",
    "# Extract the list of values  as a python list\n",
    "print(\"T at cell center: %s\" % T.content['internalField'].value())"
   ]
  },
  {
   "cell_type": "code",
   "execution_count": 24,
   "metadata": {},
   "outputs": [
    {
     "data": {
      "text/plain": [
       "Text(0,0.5,'T')"
      ]
     },
     "execution_count": 24,
     "metadata": {},
     "output_type": "execute_result"
    },
    {
     "data": {
      "image/png": "[encoded data removed]",
      "text/plain": [
       "<matplotlib.figure.Figure at 0x3ff692ff358>"
      ]
     },
     "metadata": {},
     "output_type": "display_data"
    }
   ],
   "source": [
    "# Plot T values at cell centers, there you go:\n",
    "plt.plot(T.content['internalField'].value())\n",
    "plt.xlabel(\"Cell ID\")\n",
    "plt.ylabel(\"T\")"
   ]
  }
 ],
 "metadata": {
  "kernelspec": {
   "display_name": "Python 3",
   "language": "python",
   "name": "python3"
  },
  "language_info": {
   "codemirror_mode": {
    "name": "ipython",
    "version": 3
   },
   "file_extension": ".py",
   "mimetype": "text/x-python",
   "name": "python",
   "nbconvert_exporter": "python",
   "pygments_lexer": "ipython3",
   "version": "3.6.9"
  },
  "pyFoam": {
   "createdBy": "pyFoam",
   "createdTime": "Thu Oct 24 12:59:51 2019",
   "description": "Created by pyFoamIPythonNotebook.py",
   "modificationTime": "Thu Oct 24 12:59:51 2019",
   "storedData": {}
  }
 },
 "nbformat": 4,
 "nbformat_minor": 1
}
